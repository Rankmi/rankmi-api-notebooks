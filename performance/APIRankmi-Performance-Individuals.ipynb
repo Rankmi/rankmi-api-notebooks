{
 "cells": [
  {
   "cell_type": "code",
   "execution_count": 6,
   "id": "f9a9e5c9",
   "metadata": {},
   "outputs": [],
   "source": [
    "import requests\n",
    "import json\n",
    "import pandas as pd"
   ]
  },
  {
   "cell_type": "markdown",
   "id": "45ecccba",
   "metadata": {},
   "source": [
    "## Autenticación"
   ]
  },
  {
   "cell_type": "markdown",
   "id": "e110ae62",
   "metadata": {},
   "source": [
    "Realizamos la autenticación con token de usuario previamente extraido de la configuración de Falabella"
   ]
  },
  {
   "cell_type": "code",
   "execution_count": 9,
   "id": "8bd408fd",
   "metadata": {},
   "outputs": [],
   "source": [
    "secret_key = \"04c6bde64292ccabefbd4bda6cb607f0\"#AQUI-SECRET-TOKEN "
   ]
  },
  {
   "cell_type": "code",
   "execution_count": 10,
   "id": "12d3a836",
   "metadata": {},
   "outputs": [],
   "source": [
    "query = \"\"\"mutation SignIn {\n",
    "  signIn(input:{\n",
    "    secretKey:\"%s\",\n",
    "    clientMutationId:\"\"\n",
    "  }) {\n",
    "    jwt\n",
    "    errors\n",
    "    code\n",
    "  }\n",
    "}\"\"\" % secret_key"
   ]
  },
  {
   "cell_type": "code",
   "execution_count": 4,
   "id": "e1417a70",
   "metadata": {},
   "outputs": [],
   "source": [
    "url = \"https://performance-reports-api.rankmi.com/authentication/sign_in\""
   ]
  },
  {
   "cell_type": "code",
   "execution_count": 11,
   "id": "c695fd6d",
   "metadata": {},
   "outputs": [],
   "source": [
    "r = requests.post(url, json={'query':query})\n",
    "\n",
    "if r.status_code != 200:\n",
    "    raise ValueError(\"Error inesperado de Autenticacion: {}\".format(r.text))\n",
    "\n",
    "json_data = json.loads(r.text)\n",
    "jwt = json_data[\"data\"][\"signIn\"][\"jwt\"] if 'data' in json_data and 'signIn' in json_data['data'] else None\n",
    "    \n",
    "if jwt is None:\n",
    "    raise ValueError(\"Error de Autenticacion: {}\".format(json_data[\"data\"][\"signIn\"][\"errors\"]))\n",
    "\n",
    "headers = { \"Authorization\" : jwt }"
   ]
  },
  {
   "cell_type": "markdown",
   "id": "439590b2",
   "metadata": {},
   "source": [
    "## Proceso: Evaluación Ejecutiva 2020"
   ]
  },
  {
   "cell_type": "code",
   "execution_count": 12,
   "id": "e23c7554",
   "metadata": {},
   "outputs": [],
   "source": [
    "process = \"AQUI-TOKEN-PROCESO\"\n",
    "process_id = \"AQUI-ID-PROCESO\""
   ]
  },
  {
   "cell_type": "code",
   "execution_count": 13,
   "id": "bdea84eb",
   "metadata": {},
   "outputs": [],
   "source": [
    "query_process = \"\"\"query {\n",
    "     enterpriseProcesses {\n",
    "         id\n",
    "         token\n",
    "         name\n",
    "         description\n",
    "         status\n",
    "         startDate\n",
    "         dueDate\n",
    "   }\n",
    "}\"\"\""
   ]
  },
  {
   "cell_type": "code",
   "execution_count": 14,
   "id": "cf7dfeae",
   "metadata": {},
   "outputs": [],
   "source": [
    "url_process = \"https://performance-reports-api.rankmi.com/enterprise-processes\""
   ]
  },
  {
   "cell_type": "code",
   "execution_count": 27,
   "id": "20453945",
   "metadata": {},
   "outputs": [],
   "source": [
    "rprocess = requests.post(url_process, json={'query':query_process}, headers=headers)\n",
    "\n",
    "if rprocess.status_code != 200:\n",
    "    raise ValueError(\"Error inesperado de Consulta de Procesos:\", rprocess.text)\n",
    "\n",
    "json_process = json.loads(rprocess.text)\n",
    "\n",
    "enterpriseProcesses = json_process['data']['enterpriseProcesses'] if 'data' in json_process and 'enterpriseProcesses' in json_process['data'] else None\n",
    "\n",
    "if enterpriseProcesses is None:\n",
    "    raise ValueError(\"Error de Consulta Procesos: {}\".format(json_collab['errors'][0]['message']))\n",
    "    \n",
    "process, process_name = None, None\n",
    "for p in enterpriseProcesses:\n",
    "    if p[\"id\"] == process_id:\n",
    "        process = p[\"token\"]\n",
    "        process_name = p[\"name\"]\n",
    "        \n",
    "if process is None:\n",
    "    raise ValueError(\"Error Proceso No Encontrado: {}\".format(process_id))"
   ]
  },
  {
   "cell_type": "markdown",
   "id": "8d812f89",
   "metadata": {},
   "source": [
    "## Colaboradores del Proceso"
   ]
  },
  {
   "cell_type": "markdown",
   "id": "8221a188",
   "metadata": {},
   "source": [
    "Aqui consultaremos a los colaboradores que estan incluidos proceso de desempeño elegido previamente"
   ]
  },
  {
   "cell_type": "code",
   "execution_count": 28,
   "id": "230b9565",
   "metadata": {},
   "outputs": [],
   "source": [
    "query_collaborators = \"\"\"query {\n",
    "  collaboratorsList(processToken: \"%s\"\n",
    "  page: 3\n",
    "  lang: \"en\"){\n",
    "     id\n",
    "     rut\n",
    "     name\n",
    "     token\n",
    "     email\n",
    "  }\n",
    "}\"\"\" % process"
   ]
  },
  {
   "cell_type": "code",
   "execution_count": 17,
   "id": "45543fc3",
   "metadata": {},
   "outputs": [],
   "source": [
    "url_collab = \"https://performance-reports-api.rankmi.com/collaborators/index\""
   ]
  },
  {
   "cell_type": "code",
   "execution_count": 18,
   "id": "1f568e23",
   "metadata": {},
   "outputs": [],
   "source": [
    "rcollab = requests.post(url_collab, json={'query':query_collaborators}, headers=headers)\n",
    "\n",
    "if rcollab.status_code != 200:\n",
    "    raise ValueError(\"Error inesperado de Consulta Colaboradores:\", rcollab.text)\n",
    "\n",
    "json_collab = json.loads(rcollab.text)\n",
    "\n",
    "collaboratorsList = json_collab['data']['collaboratorsList'] if 'data' in json_collab and 'collaboratorsList' in json_collab['data'] else None\n",
    "\n",
    "if collaboratorsList is None:\n",
    "    raise ValueError(\"Error de Consulta Colaboradores: {}\".format(json_collab['errors'][0]['message']))\n"
   ]
  },
  {
   "cell_type": "markdown",
   "id": "12e51de2",
   "metadata": {},
   "source": [
    "## Resultados Individuales de colaboradores"
   ]
  },
  {
   "cell_type": "markdown",
   "id": "24796710",
   "metadata": {},
   "source": [
    "Ahora con el listado de colaboradores, iteraremos para extraer toda la información de resultados individuales y con esta información armar el dataframe con el resumen de la información requerida. Para realizar las pruebas de un ejercicio, tomaremos solo un numero limitado de registros (N_COLLABORATORS) y construiremos la data conforme el requerimiento de Falabella para este proceso. "
   ]
  },
  {
   "cell_type": "code",
   "execution_count": 19,
   "id": "33a0e256",
   "metadata": {},
   "outputs": [],
   "source": [
    "url_individual_res = \"https://performance-reports-api.rankmi.com/individual-results\"\n",
    "\n",
    "def consulta_individual_colaborador(proceso, colaborador):\n",
    "    query_ind_result = \"\"\"query {\n",
    "      individualResult(processToken: \"%s\"\n",
    "      collaboratorToken: \"%s\"\n",
    "      lang: \"en\"){\n",
    "         id\n",
    "         name\n",
    "         token\n",
    "         area\n",
    "         position\n",
    "         email\n",
    "         evaluators\n",
    "         generalAverage{\n",
    "          evaluationDomain\n",
    "          evaluationResult\n",
    "        }\n",
    "        domains{\n",
    "          domainId\n",
    "          name\n",
    "          domainAverage\n",
    "          competencesAverage\n",
    "          goalsAverage\n",
    "          competences\n",
    "          categoriesConducts\n",
    "        }\n",
    "      }\n",
    "    }\"\"\" % (proceso, colaborador)\n",
    "    \n",
    "    rindividual = requests.post(url_individual_res, json={'query':query_ind_result}, headers=headers)\n",
    "    \n",
    "    if rindividual.status_code != 200:\n",
    "        raise ValueError(\"Error inesperado de Consulta Colaboradores:\", rindividual.text)\n",
    "\n",
    "    json_individ = json.loads(rindividual.text)\n",
    "\n",
    "    individualResult = json_individ['data']['individualResult'] if 'data' in json_individ and 'individualResult' in json_individ['data'] else None\n",
    "\n",
    "    if individualResult is None:\n",
    "        raise ValueError(\"Error de Consulta Individual: {}\".format(json_individ['errors'][0]['message']))\n",
    "        \n",
    "    return individualResult  "
   ]
  },
  {
   "cell_type": "code",
   "execution_count": 21,
   "id": "0c75778d",
   "metadata": {},
   "outputs": [],
   "source": [
    "N_COLLABORATORS = 5"
   ]
  },
  {
   "cell_type": "code",
   "execution_count": 29,
   "id": "144de18c",
   "metadata": {},
   "outputs": [],
   "source": [
    "CATEGORY = {\n",
    "    'Parcial fulfils':'Cumple Satisfactorio',\n",
    "    'Satisfactory fulfils':'Sobresaliente',\n",
    "    'Under expected':'Bajo lo esperado',\n",
    "    'Outstanding':'Pendiente'\n",
    "}\n",
    "\n",
    "def get_competence(domain):\n",
    "    if 'competencesAverage' in domain:\n",
    "        competencesAverage = domain['competencesAverage']\n",
    "        qualification = competencesAverage['average']\n",
    "        return {\n",
    "            'qualification':qualification,\n",
    "            'category':CATEGORY[competencesAverage['label']],\n",
    "            'group':'Grupo por definir',\n",
    "            'competence':'Competencia por definir'\n",
    "        }\n",
    "        \n",
    "    return None\n",
    "\n",
    "def get_domain_performance(r_ind):\n",
    "    domains = r_ind['domains'] if 'domains' in r_ind else None\n",
    "    if domains and len(domains) > 0:\n",
    "        for d in domains:\n",
    "            if 'name' in d and d['name'] == 'Performance':\n",
    "                competence = get_competence(d)\n",
    "                return  {\n",
    "                    'domain':\"Desempeño\",\n",
    "                    'group':competence['group'],\n",
    "                    'competence':competence['competence'],\n",
    "                    'qualification':competence['qualification'],\n",
    "                    'category': competence['category']\n",
    "                }\n",
    "    \n",
    "    return None"
   ]
  },
  {
   "cell_type": "code",
   "execution_count": 30,
   "id": "c3e27d34",
   "metadata": {},
   "outputs": [],
   "source": [
    "indiv_data_collaborators = []\n",
    "\n",
    "for i in range(0,N_COLLABORATORS):\n",
    "    try:\n",
    "        collaborator = collaboratorsList[i]\n",
    "        r_ind = consulta_individual_colaborador(process, collaborator[\"token\"])\n",
    "        domain = get_domain_performance(r_ind)\n",
    "        \n",
    "        indiv_data_collaborators.append({\n",
    "            'ID Proceso':process_id,\n",
    "            'Nombre Proceso':process_name,\n",
    "            'Identifier Colaborador':collaborator[\"rut\"],\n",
    "            'Nombre Colaborador':collaborator[\"name\"],\n",
    "            'Correo Colaborador':collaborator[\"email\"],\n",
    "            'Cargo Colaborador':r_ind[\"position\"],\n",
    "            'Familia de Cargo':r_ind[\"position_family\"] if \"position_family\" in r_ind else \"---\",\n",
    "            'Genero Colaborador':r_ind[\"gender\"] if \"gender\" in r_ind else \"---\",\n",
    "            'Fecha de Nacimiento':r_ind[\"born_date\"] if \"born_date\" in r_ind else \"---\",\n",
    "            'Ingreso Cargo':r_ind[\"position_input\"] if \"position_input\" in r_ind else \"---\",\n",
    "            'Dominio':domain[\"domain\"] if domain else \"---\",\n",
    "            'Grupo Competencias':domain[\"group\"] if domain else \"---\",\n",
    "            'Competencia':domain[\"competence\"] if domain else \"---\",\n",
    "            'Nota':domain[\"qualification\"] if domain else \"---\",\n",
    "            'Categoria':domain[\"category\"] if domain else \"---\"\n",
    "        })\n",
    "    except Exception as e:\n",
    "        print(e)"
   ]
  },
  {
   "cell_type": "code",
   "execution_count": 31,
   "id": "f3c2ac6f",
   "metadata": {},
   "outputs": [
    {
     "data": {
      "text/html": [
       "<div>\n",
       "<style scoped>\n",
       "    .dataframe tbody tr th:only-of-type {\n",
       "        vertical-align: middle;\n",
       "    }\n",
       "\n",
       "    .dataframe tbody tr th {\n",
       "        vertical-align: top;\n",
       "    }\n",
       "\n",
       "    .dataframe thead th {\n",
       "        text-align: right;\n",
       "    }\n",
       "</style>\n",
       "<table border=\"1\" class=\"dataframe\">\n",
       "  <thead>\n",
       "    <tr style=\"text-align: right;\">\n",
       "      <th></th>\n",
       "      <th>ID Proceso</th>\n",
       "      <th>Nombre Proceso</th>\n",
       "      <th>Identifier Colaborador</th>\n",
       "      <th>Nombre Colaborador</th>\n",
       "      <th>Correo Colaborador</th>\n",
       "      <th>Cargo Colaborador</th>\n",
       "      <th>Familia de Cargo</th>\n",
       "      <th>Genero Colaborador</th>\n",
       "      <th>Fecha de Nacimiento</th>\n",
       "      <th>Ingreso Cargo</th>\n",
       "      <th>Dominio</th>\n",
       "      <th>Grupo Competencias</th>\n",
       "      <th>Competencia</th>\n",
       "      <th>Nota</th>\n",
       "      <th>Categoria</th>\n",
       "    </tr>\n",
       "  </thead>\n",
       "  <tbody>\n",
       "    <tr>\n",
       "      <th>0</th>\n",
       "      <td>4876</td>\n",
       "      <td>Evaluación Ejecutiva 2020</td>\n",
       "      <td>25750521-9</td>\n",
       "      <td>Pablo Balbis .</td>\n",
       "      <td>pbalbis@falabella.cl</td>\n",
       "      <td>GERENTE</td>\n",
       "      <td>---</td>\n",
       "      <td>---</td>\n",
       "      <td>---</td>\n",
       "      <td>---</td>\n",
       "      <td>Desempeño</td>\n",
       "      <td>Grupo por definir</td>\n",
       "      <td>Competencia por definir</td>\n",
       "      <td>2.64</td>\n",
       "      <td>Cumple Satisfactorio</td>\n",
       "    </tr>\n",
       "    <tr>\n",
       "      <th>1</th>\n",
       "      <td>4876</td>\n",
       "      <td>Evaluación Ejecutiva 2020</td>\n",
       "      <td>11490964-5</td>\n",
       "      <td>Juan Carlos Seaman Ramirez</td>\n",
       "      <td>jcseaman@falabella.cl</td>\n",
       "      <td>Arquitecto de Integraciones</td>\n",
       "      <td>---</td>\n",
       "      <td>---</td>\n",
       "      <td>---</td>\n",
       "      <td>---</td>\n",
       "      <td>Desempeño</td>\n",
       "      <td>Grupo por definir</td>\n",
       "      <td>Competencia por definir</td>\n",
       "      <td>2.96</td>\n",
       "      <td>Sobresaliente</td>\n",
       "    </tr>\n",
       "    <tr>\n",
       "      <th>2</th>\n",
       "      <td>4876</td>\n",
       "      <td>Evaluación Ejecutiva 2020</td>\n",
       "      <td>13062613</td>\n",
       "      <td>Jose Leonardo Talloni Tirado</td>\n",
       "      <td>jltalloni@falabella.cl</td>\n",
       "      <td>Subgerente de Soporte</td>\n",
       "      <td>---</td>\n",
       "      <td>---</td>\n",
       "      <td>---</td>\n",
       "      <td>---</td>\n",
       "      <td>Desempeño</td>\n",
       "      <td>Grupo por definir</td>\n",
       "      <td>Competencia por definir</td>\n",
       "      <td>3.40</td>\n",
       "      <td>Pendiente</td>\n",
       "    </tr>\n",
       "    <tr>\n",
       "      <th>3</th>\n",
       "      <td>4876</td>\n",
       "      <td>Evaluación Ejecutiva 2020</td>\n",
       "      <td>15219075-1</td>\n",
       "      <td>Juan Pablo Zapata Segura</td>\n",
       "      <td>jpzapatas@falabella.cl</td>\n",
       "      <td>Subgerente Core</td>\n",
       "      <td>---</td>\n",
       "      <td>---</td>\n",
       "      <td>---</td>\n",
       "      <td>---</td>\n",
       "      <td>Desempeño</td>\n",
       "      <td>Grupo por definir</td>\n",
       "      <td>Competencia por definir</td>\n",
       "      <td>3.17</td>\n",
       "      <td>Sobresaliente</td>\n",
       "    </tr>\n",
       "    <tr>\n",
       "      <th>4</th>\n",
       "      <td>4876</td>\n",
       "      <td>Evaluación Ejecutiva 2020</td>\n",
       "      <td>16001533-0</td>\n",
       "      <td>Renato Martin Covarrubias Romero</td>\n",
       "      <td>rmcovarrubias@falabella.cl</td>\n",
       "      <td>Subgerente Corp Devops &amp; Cloud</td>\n",
       "      <td>---</td>\n",
       "      <td>---</td>\n",
       "      <td>---</td>\n",
       "      <td>---</td>\n",
       "      <td>Desempeño</td>\n",
       "      <td>Grupo por definir</td>\n",
       "      <td>Competencia por definir</td>\n",
       "      <td>3.46</td>\n",
       "      <td>Pendiente</td>\n",
       "    </tr>\n",
       "  </tbody>\n",
       "</table>\n",
       "</div>"
      ],
      "text/plain": [
       "  ID Proceso             Nombre Proceso Identifier Colaborador  \\\n",
       "0       4876  Evaluación Ejecutiva 2020             25750521-9   \n",
       "1       4876  Evaluación Ejecutiva 2020             11490964-5   \n",
       "2       4876  Evaluación Ejecutiva 2020               13062613   \n",
       "3       4876  Evaluación Ejecutiva 2020             15219075-1   \n",
       "4       4876  Evaluación Ejecutiva 2020             16001533-0   \n",
       "\n",
       "                 Nombre Colaborador          Correo Colaborador  \\\n",
       "0                    Pablo Balbis .        pbalbis@falabella.cl   \n",
       "1        Juan Carlos Seaman Ramirez       jcseaman@falabella.cl   \n",
       "2      Jose Leonardo Talloni Tirado      jltalloni@falabella.cl   \n",
       "3          Juan Pablo Zapata Segura      jpzapatas@falabella.cl   \n",
       "4  Renato Martin Covarrubias Romero  rmcovarrubias@falabella.cl   \n",
       "\n",
       "                Cargo Colaborador Familia de Cargo Genero Colaborador  \\\n",
       "0                         GERENTE              ---                ---   \n",
       "1     Arquitecto de Integraciones              ---                ---   \n",
       "2           Subgerente de Soporte              ---                ---   \n",
       "3                 Subgerente Core              ---                ---   \n",
       "4  Subgerente Corp Devops & Cloud              ---                ---   \n",
       "\n",
       "  Fecha de Nacimiento Ingreso Cargo    Dominio Grupo Competencias  \\\n",
       "0                 ---           ---  Desempeño  Grupo por definir   \n",
       "1                 ---           ---  Desempeño  Grupo por definir   \n",
       "2                 ---           ---  Desempeño  Grupo por definir   \n",
       "3                 ---           ---  Desempeño  Grupo por definir   \n",
       "4                 ---           ---  Desempeño  Grupo por definir   \n",
       "\n",
       "               Competencia  Nota             Categoria  \n",
       "0  Competencia por definir  2.64  Cumple Satisfactorio  \n",
       "1  Competencia por definir  2.96         Sobresaliente  \n",
       "2  Competencia por definir  3.40             Pendiente  \n",
       "3  Competencia por definir  3.17         Sobresaliente  \n",
       "4  Competencia por definir  3.46             Pendiente  "
      ]
     },
     "execution_count": 31,
     "metadata": {},
     "output_type": "execute_result"
    }
   ],
   "source": [
    "collaborators_df = pd.DataFrame(indiv_data_collaborators)\n",
    "collaborators_df"
   ]
  },
  {
   "cell_type": "code",
   "execution_count": 32,
   "id": "190e95b0",
   "metadata": {},
   "outputs": [
    {
     "data": {
      "text/plain": [
       "<AxesSubplot:xlabel='Categoria'>"
      ]
     },
     "execution_count": 32,
     "metadata": {},
     "output_type": "execute_result"
    },
    {
     "data": {
      "image/png": "[encoded data removed]",
      "text/plain": [
       "<Figure size 432x288 with 1 Axes>"
      ]
     },
     "metadata": {
      "needs_background": "light"
     },
     "output_type": "display_data"
    }
   ],
   "source": [
    "import matplotlib.pyplot as plt\n",
    "collaborators_df.plot(y=\"Nota\",x=\"Categoria\")"
   ]
  },
  {
   "cell_type": "code",
   "execution_count": null,
   "id": "9af00e4d",
   "metadata": {},
   "outputs": [],
   "source": []
  }
 ],
 "metadata": {
  "kernelspec": {
   "display_name": "conda_python3",
   "language": "python",
   "name": "conda_python3"
  },
  "language_info": {
   "codemirror_mode": {
    "name": "ipython",
    "version": 3
   },
   "file_extension": ".py",
   "mimetype": "text/x-python",
   "name": "python",
   "nbconvert_exporter": "python",
   "pygments_lexer": "ipython3",
   "version": "3.6.13"
  }
 },
 "nbformat": 4,
 "nbformat_minor": 5
}
