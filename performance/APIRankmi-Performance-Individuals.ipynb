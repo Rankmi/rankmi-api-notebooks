{
 "cells": [
  {
   "cell_type": "markdown",
   "id": "20d16544",
   "metadata": {},
   "source": [
    "# Uso de Resultados Individuales"
   ]
  },
  {
   "cell_type": "markdown",
   "id": "0d0fa8c7",
   "metadata": {},
   "source": [
    "A continuación ejemplificamos el modo de consumo de los servicios del API de Desempeño para consulta de resultados indivuales por colaborador"
   ]
  },
  {
   "cell_type": "code",
   "execution_count": 37,
   "id": "fdc9d2c6",
   "metadata": {},
   "outputs": [],
   "source": [
    "import requests\n",
    "import json\n",
    "import pandas as pd"
   ]
  },
  {
   "cell_type": "markdown",
   "id": "b33fdc1b",
   "metadata": {},
   "source": [
    "## Autenticación"
   ]
  },
  {
   "cell_type": "markdown",
   "id": "109d8a0a",
   "metadata": {},
   "source": [
    "Realizamos la autenticación con token de usuario previamente extraido de la configuración de Falabella"
   ]
  },
  {
   "cell_type": "code",
   "execution_count": 9,
   "id": "2951d8b0",
   "metadata": {},
   "outputs": [],
   "source": [
    "secret_key = \"AQUI-SECRET-TOKEN\""
   ]
  },
  {
   "cell_type": "code",
   "execution_count": 33,
   "id": "42862b1f",
   "metadata": {},
   "outputs": [],
   "source": [
    "query = \"\"\"mutation SignIn {\n",
    "  signIn(input:{\n",
    "    secretKey:\"%s\",\n",
    "    clientMutationId:\"\"\n",
    "  }) {\n",
    "    jwt\n",
    "    errors\n",
    "    code\n",
    "  }\n",
    "}\"\"\" % secret_key"
   ]
  },
  {
   "cell_type": "code",
   "execution_count": 4,
   "id": "1fab35fb",
   "metadata": {},
   "outputs": [],
   "source": [
    "url = \"https://performance-reports-api.rankmi.com/authentication/sign_in\""
   ]
  },
  {
   "cell_type": "code",
   "execution_count": 11,
   "id": "86c0d454",
   "metadata": {},
   "outputs": [],
   "source": [
    "r = requests.post(url, json={'query':query})\n",
    "\n",
    "if r.status_code != 200:\n",
    "    raise ValueError(\"Error inesperado de Autenticacion: {}\".format(r.text))\n",
    "\n",
    "json_data = json.loads(r.text)\n",
    "jwt = json_data[\"data\"][\"signIn\"][\"jwt\"] if 'data' in json_data and 'signIn' in json_data['data'] else None\n",
    "    \n",
    "if jwt is None:\n",
    "    raise ValueError(\"Error de Autenticacion: {}\".format(json_data[\"data\"][\"signIn\"][\"errors\"]))\n",
    "\n",
    "headers = { \"Authorization\" : jwt }"
   ]
  },
  {
   "cell_type": "markdown",
   "id": "d60ef125",
   "metadata": {},
   "source": [
    "## Proceso: Evaluación Ejecutiva 2020"
   ]
  },
  {
   "cell_type": "code",
   "execution_count": 34,
   "id": "ff12bc56",
   "metadata": {},
   "outputs": [],
   "source": [
    "process = None\n",
    "process_id = \"AQUI-ID-PROCESO\""
   ]
  },
  {
   "cell_type": "code",
   "execution_count": 35,
   "id": "1b7a07ca",
   "metadata": {},
   "outputs": [],
   "source": [
    "query_process = \"\"\"query {\n",
    "     enterpriseProcesses {\n",
    "         id\n",
    "         token\n",
    "         name\n",
    "         description\n",
    "         status\n",
    "         startDate\n",
    "         dueDate\n",
    "   }\n",
    "}\"\"\""
   ]
  },
  {
   "cell_type": "code",
   "execution_count": 14,
   "id": "9047b57b",
   "metadata": {},
   "outputs": [],
   "source": [
    "url_process = \"https://performance-reports-api.rankmi.com/enterprise-processes\""
   ]
  },
  {
   "cell_type": "code",
   "execution_count": 27,
   "id": "9c986f21",
   "metadata": {},
   "outputs": [],
   "source": [
    "rprocess = requests.post(url_process, json={'query':query_process}, headers=headers)\n",
    "\n",
    "if rprocess.status_code != 200:\n",
    "    raise ValueError(\"Error inesperado de Consulta de Procesos:\", rprocess.text)\n",
    "\n",
    "json_process = json.loads(rprocess.text)\n",
    "\n",
    "enterpriseProcesses = json_process['data']['enterpriseProcesses'] if 'data' in json_process and 'enterpriseProcesses' in json_process['data'] else None\n",
    "\n",
    "if enterpriseProcesses is None:\n",
    "    raise ValueError(\"Error de Consulta Procesos: {}\".format(json_collab['errors'][0]['message']))\n",
    "    \n",
    "process, process_name = None, None\n",
    "for p in enterpriseProcesses:\n",
    "    if p[\"id\"] == process_id:\n",
    "        process = p[\"token\"]\n",
    "        process_name = p[\"name\"]\n",
    "        \n",
    "if process is None:\n",
    "    raise ValueError(\"Error Proceso No Encontrado: {}\".format(process_id))"
   ]
  },
  {
   "cell_type": "markdown",
   "id": "074bea72",
   "metadata": {},
   "source": [
    "## Colaboradores del Proceso"
   ]
  },
  {
   "cell_type": "markdown",
   "id": "f8d1e42a",
   "metadata": {},
   "source": [
    "Aqui consultaremos a los colaboradores que estan incluidos proceso de desempeño elegido previamente"
   ]
  },
  {
   "cell_type": "code",
   "execution_count": 28,
   "id": "5d66622a",
   "metadata": {},
   "outputs": [],
   "source": [
    "query_collaborators = \"\"\"query {\n",
    "  collaboratorsList(processToken: \"%s\"\n",
    "  page: 3\n",
    "  lang: \"en\"){\n",
    "     id\n",
    "     rut\n",
    "     name\n",
    "     token\n",
    "     email\n",
    "  }\n",
    "}\"\"\" % process"
   ]
  },
  {
   "cell_type": "code",
   "execution_count": 17,
   "id": "9f826922",
   "metadata": {},
   "outputs": [],
   "source": [
    "url_collab = \"https://performance-reports-api.rankmi.com/collaborators/index\""
   ]
  },
  {
   "cell_type": "code",
   "execution_count": 18,
   "id": "06936093",
   "metadata": {},
   "outputs": [],
   "source": [
    "rcollab = requests.post(url_collab, json={'query':query_collaborators}, headers=headers)\n",
    "\n",
    "if rcollab.status_code != 200:\n",
    "    raise ValueError(\"Error inesperado de Consulta Colaboradores:\", rcollab.text)\n",
    "\n",
    "json_collab = json.loads(rcollab.text)\n",
    "\n",
    "collaboratorsList = json_collab['data']['collaboratorsList'] if 'data' in json_collab and 'collaboratorsList' in json_collab['data'] else None\n",
    "\n",
    "if collaboratorsList is None:\n",
    "    raise ValueError(\"Error de Consulta Colaboradores: {}\".format(json_collab['errors'][0]['message']))\n"
   ]
  },
  {
   "cell_type": "markdown",
   "id": "78f25704",
   "metadata": {},
   "source": [
    "## Resultados Individuales de colaboradores"
   ]
  },
  {
   "cell_type": "markdown",
   "id": "64c20807",
   "metadata": {},
   "source": [
    "Ahora con el listado de colaboradores, iteraremos para extraer toda la información de resultados individuales. El siguiente es un método que ejemplifica su uso:"
   ]
  },
  {
   "cell_type": "code",
   "execution_count": 19,
   "id": "b6a434b8",
   "metadata": {},
   "outputs": [],
   "source": [
    "url_individual_res = \"https://performance-reports-api.rankmi.com/individual-results\"\n",
    "\n",
    "def consulta_individual_colaborador(proceso, colaborador):\n",
    "    query_ind_result = \"\"\"query {\n",
    "      individualResult(processToken: \"%s\"\n",
    "      collaboratorToken: \"%s\"\n",
    "      lang: \"en\"){\n",
    "         id\n",
    "         name\n",
    "         token\n",
    "         area\n",
    "         position\n",
    "         email\n",
    "         evaluators\n",
    "         generalAverage{\n",
    "          evaluationDomain\n",
    "          evaluationResult\n",
    "        }\n",
    "        domains{\n",
    "          domainId\n",
    "          name\n",
    "          domainAverage\n",
    "          competencesAverage\n",
    "          goalsAverage\n",
    "          competences\n",
    "          categoriesConducts\n",
    "        }\n",
    "      }\n",
    "    }\"\"\" % (proceso, colaborador)\n",
    "    \n",
    "    rindividual = requests.post(url_individual_res, json={'query':query_ind_result}, headers=headers)\n",
    "    \n",
    "    if rindividual.status_code != 200:\n",
    "        raise ValueError(\"Error inesperado de Consulta Colaboradores:\", rindividual.text)\n",
    "\n",
    "    json_individ = json.loads(rindividual.text)\n",
    "\n",
    "    individualResult = json_individ['data']['individualResult'] if 'data' in json_individ and 'individualResult' in json_individ['data'] else None\n",
    "\n",
    "    if individualResult is None:\n",
    "        raise ValueError(\"Error de Consulta Individual: {}\".format(json_individ['errors'][0]['message']))\n",
    "        \n",
    "    return individualResult  "
   ]
  },
  {
   "cell_type": "code",
   "execution_count": null,
   "id": "852ad9d3",
   "metadata": {},
   "outputs": [],
   "source": [
    "consulta_individual_colaborador(process, \"AQUI-TOKEN-COLABORADOR\")"
   ]
  }
 ],
 "metadata": {
  "kernelspec": {
   "display_name": "conda_python3",
   "language": "python",
   "name": "conda_python3"
  },
  "language_info": {
   "codemirror_mode": {
    "name": "ipython",
    "version": 3
   },
   "file_extension": ".py",
   "mimetype": "text/x-python",
   "name": "python",
   "nbconvert_exporter": "python",
   "pygments_lexer": "ipython3",
   "version": "3.6.13"
  }
 },
 "nbformat": 4,
 "nbformat_minor": 5
}
