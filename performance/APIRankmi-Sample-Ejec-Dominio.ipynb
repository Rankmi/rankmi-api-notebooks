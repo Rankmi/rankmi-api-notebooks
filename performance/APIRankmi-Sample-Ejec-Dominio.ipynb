{
 "cells": [
  {
   "cell_type": "code",
   "execution_count": 1,
   "id": "561cf38a",
   "metadata": {},
   "outputs": [],
   "source": [
    "import requests\n",
    "import json\n",
    "import pandas as pd\n",
    "import time\n",
    "import traceback"
   ]
  },
  {
   "cell_type": "code",
   "execution_count": 2,
   "id": "9bdde754",
   "metadata": {},
   "outputs": [],
   "source": [
    "performance_api_url = \"https://performance-reports-api.rankmi.com\""
   ]
  },
  {
   "cell_type": "markdown",
   "id": "24d684fb",
   "metadata": {},
   "source": [
    "## Autenticación"
   ]
  },
  {
   "cell_type": "markdown",
   "id": "1c5bb39f",
   "metadata": {},
   "source": [
    "Realizamos la autenticación con token de usuario previamente extraido de la configuración de Falabella"
   ]
  },
  {
   "cell_type": "code",
   "execution_count": 3,
   "id": "00b89a06",
   "metadata": {},
   "outputs": [],
   "source": [
    "secret_key = \"SECRET-KEY-HERE\""
   ]
  },
  {
   "cell_type": "code",
   "execution_count": 4,
   "id": "12638656",
   "metadata": {},
   "outputs": [],
   "source": [
    "query = \"\"\"mutation SignIn {\n",
    "  signIn(input:{\n",
    "    secretKey:\"%s\",\n",
    "    clientMutationId:\"\"\n",
    "  }) {\n",
    "    jwt\n",
    "    errors\n",
    "    code\n",
    "  }\n",
    "}\"\"\" % secret_key"
   ]
  },
  {
   "cell_type": "code",
   "execution_count": 5,
   "id": "9ef00804",
   "metadata": {},
   "outputs": [],
   "source": [
    "url = \"{}/authentication/sign_in\".format(performance_api_url)"
   ]
  },
  {
   "cell_type": "code",
   "execution_count": 6,
   "id": "412e99a4",
   "metadata": {},
   "outputs": [],
   "source": [
    "r = requests.post(url, json={'query':query})\n",
    "\n",
    "if r.status_code != 200:\n",
    "    raise ValueError(\"Error inesperado de Autenticacion: {}\".format(r.text))\n",
    "\n",
    "json_data = json.loads(r.text)\n",
    "jwt = json_data[\"data\"][\"signIn\"][\"jwt\"] if 'data' in json_data and 'signIn' in json_data['data'] else None\n",
    "    \n",
    "if jwt is None:\n",
    "    raise ValueError(\"Error de Autenticacion: {}\".format(json_data[\"data\"][\"signIn\"][\"errors\"]))\n",
    "\n",
    "headers = { \"Authorization\" : jwt }"
   ]
  },
  {
   "cell_type": "markdown",
   "id": "4aa88093",
   "metadata": {},
   "source": [
    "## Proceso: Evaluación Ejecutiva 2020"
   ]
  },
  {
   "cell_type": "code",
   "execution_count": 7,
   "id": "0779dbdf",
   "metadata": {},
   "outputs": [],
   "source": [
    "process = \"PROCESS-CODE-HERE\""
   ]
  },
  {
   "cell_type": "markdown",
   "id": "294a1d7f",
   "metadata": {},
   "source": [
    "## Resumen de colaboradores"
   ]
  },
  {
   "cell_type": "markdown",
   "id": "a851ac68",
   "metadata": {},
   "source": [
    "Ahora con el listado de colaboradores, iteraremos para extraer toda la información de resultados individuales y con esta información armar el dataframe con el resumen de la información requerida. Para realizar las pruebas de un ejercicio, tomaremos solo un numero limitado de registros (N_COLLABORATORS) y construiremos la data conforme el requerimiento de Falabella para este proceso. "
   ]
  },
  {
   "cell_type": "code",
   "execution_count": 14,
   "id": "3425d92a",
   "metadata": {},
   "outputs": [],
   "source": [
    "url_resume_res = \"{}/reports/resume\".format(performance_api_url)\n",
    "\n",
    "def get_resume_results(proceso, page=1):\n",
    "    query_ind_result = \"\"\"query {\n",
    "      collaboratorsResume(\n",
    "        processToken: \"%s\"\n",
    "        page: %d\n",
    "        lang: \"es\"\n",
    "      ) {\n",
    "        id\n",
    "        rut\n",
    "        name\n",
    "        token\n",
    "        avatar\n",
    "        email\n",
    "        position\n",
    "        ponderationFamily\n",
    "        talent\n",
    "        process {\n",
    "          id\n",
    "          token\n",
    "          name\n",
    "        }\n",
    "        areas {\n",
    "          id\n",
    "          parentAreaId\n",
    "          name\n",
    "          main\n",
    "        }\n",
    "        demographics {\n",
    "          id\n",
    "          name\n",
    "          value\n",
    "        }\n",
    "        domains {\n",
    "          domainId\n",
    "          name\n",
    "          domainAverage\n",
    "          categoriesConducts\n",
    "        }\n",
    "      }\n",
    "      pagination {\n",
    "        currentPage\n",
    "        limitValue\n",
    "        totalPages\n",
    "        totalRecords\n",
    "      }\n",
    "    }\"\"\" % (proceso, page)\n",
    "    \n",
    "    rindividual = requests.post(url_resume_res, json={'query':query_ind_result}, headers=headers)\n",
    "    \n",
    "    if rindividual.status_code != 200:\n",
    "        raise ValueError(\"Error inesperado de Consulta Resumida de Colaboradores:\", rindividual.text)\n",
    "\n",
    "    json_individ = json.loads(rindividual.text)\n",
    "\n",
    "    collaboratorsResume = json_individ['data']['collaboratorsResume'] if 'data' in json_individ and 'collaboratorsResume' in json_individ['data'] else None\n",
    "\n",
    "    if collaboratorsResume is None:\n",
    "        raise ValueError(\"Error de Consulta Resumida de Colaboradores: {}\".format(json_individ['errors'][0]['message']))\n",
    "        \n",
    "    return collaboratorsResume, json_individ[\"data\"][\"pagination\"][\"totalPages\"]"
   ]
  },
  {
   "cell_type": "markdown",
   "id": "32e84314",
   "metadata": {},
   "source": [
    "### Constantes & Catalogos"
   ]
  },
  {
   "cell_type": "code",
   "execution_count": 15,
   "id": "d5021db7",
   "metadata": {},
   "outputs": [],
   "source": [
    "MAX_PAGES = 5\n",
    "\n",
    "CATEGORY = {\n",
    "    'Parcial fulfils':'Cumple Satisfactorio',\n",
    "    'Satisfactory fulfils':'Sobresaliente',\n",
    "    'Under expected':'Bajo lo esperado',\n",
    "    'Outstanding':'Pendiente',\n",
    "    'Maintain role':'Mantener rol actual',\n",
    "    'Expand Respons.':'Ampliar responsabilidad',\n",
    "    'Grow 1 level':'Crecer un nivel',\n",
    "    'Value':'Valor',\n",
    "    'Under development':'Bajo Desarrollo',\n",
    "    'Expert':'Experto',\n",
    "    'Solid +':'Sólido +'\n",
    "}\n",
    "\n",
    "RESULT_TYPE = {\n",
    "    'Performance':'Desempeño',\n",
    "    'Development potential':'Potencial de desarrollo'\n",
    "}\n",
    "\n",
    "CALIBRATION = {\n",
    "    True:'Calibrado',\n",
    "    False:'Aceptada',\n",
    "}\n",
    "\n",
    "UNKNOWED_DATA = '---'\n",
    "NULL_DATA = '*'\n",
    "EMPTY_DATA = ''"
   ]
  },
  {
   "cell_type": "markdown",
   "id": "0f960dff",
   "metadata": {},
   "source": [
    "### Mapping & Format"
   ]
  },
  {
   "cell_type": "code",
   "execution_count": 16,
   "id": "1954c442",
   "metadata": {},
   "outputs": [],
   "source": [
    "def get_domains(r_ind, base_data):\n",
    "    domains = r_ind['domains'] if 'domains' in r_ind else None\n",
    "    domains_sumary = []\n",
    "    \n",
    "    if domains and len(domains) > 0:\n",
    "        for d in domains:\n",
    "            dAv = d['domainAverage']\n",
    "            if dAv:\n",
    "                data =  base_data.copy()\n",
    "                data['Recomendacion Comite'] = UNKNOWED_DATA\n",
    "                data['Tipo Resultado'] = RESULT_TYPE[d['name']] if d['name'] in RESULT_TYPE else d['name']\n",
    "                data['Resultado'] = dAv['average'] if not dAv['calibrated'] else dAv['originalAvg']\n",
    "                data['Categoria'] = CATEGORY[dAv['label']] if dAv['label'] in CATEGORY else dAv['label']\n",
    "                data['Resultado Calibrado'] = dAv['calibrationAverage'] if dAv['calibrated'] else EMPTY_DATA\n",
    "                data['Etiqueta Calibracion'] = CALIBRATION[dAv['calibrated']] if dAv['calibrated'] is not None else NULL_DATA\n",
    "                data['Categoria Calibrada'] = dAv['calibrationLabel'] if dAv['calibrationLabel'] else NULL_DATA\n",
    "\n",
    "                domains_sumary.append(data)\n",
    "        \n",
    "    return domains_sumary\n",
    "\n",
    "def build_demographics(demo):\n",
    "    demo_json = {}\n",
    "    for item in demo:\n",
    "        demo_json[item['name']] = item['value']\n",
    "    return demo_json\n",
    "    \n",
    "def get_areas(areas):\n",
    "    areas_json, index = {}, 1\n",
    "    for area in areas:\n",
    "        if area[\"main\"]: areas_json['principal'] = area['name']\n",
    "        areas_json['level{}'.format(index)] = area['name']\n",
    "        index+=1\n",
    "    return areas_json"
   ]
  },
  {
   "cell_type": "markdown",
   "id": "d626f589",
   "metadata": {},
   "source": [
    "### Procesamiento del listado de colaboradores para buscar resultados individuales"
   ]
  },
  {
   "cell_type": "code",
   "execution_count": 21,
   "id": "93350380",
   "metadata": {},
   "outputs": [
    {
     "name": "stdout",
     "output_type": "stream",
     "text": [
      "-> Running page 1...\n",
      "-> Running page 2...\n",
      "-> Running page 3...\n",
      "-> Running page 4...\n",
      "-> Running page 5...\n",
      "Lapsed Time: 51.902230739593506\n"
     ]
    }
   ],
   "source": [
    "indiv_data_collaborators = []\n",
    "\n",
    "start = time.time()\n",
    "total_pages = MAX_PAGES\n",
    "\n",
    "for page in range(1, MAX_PAGES+1):\n",
    "    print(\"-> Running page %d...\" % page)\n",
    "    \n",
    "    if page > total_pages:\n",
    "        print(\"<- Max Pages Reached\")\n",
    "        break\n",
    "    \n",
    "    results, total_pages = get_resume_results(process, page)\n",
    "\n",
    "    for r_ind in results:\n",
    "        try:\n",
    "            demo = build_demographics(r_ind['demographics'])\n",
    "            areas = get_areas(r_ind['areas'])\n",
    "            talent = r_ind['talent'] if 'talent' in r_ind else None\n",
    "\n",
    "            base_data = {\n",
    "                'ID Proceso':r_ind['process']['id'],\n",
    "                'Nombre Proceso':r_ind['process']['name'],\n",
    "                'Identifier Colaborador':r_ind[\"rut\"],\n",
    "                'Nombre Colaborador':r_ind[\"name\"],\n",
    "                'Correo Colaborador':r_ind[\"email\"],\n",
    "                'Cargo Colaborador':r_ind[\"position\"],\n",
    "                'Familia de Cargo':demo[\"Familia de cargo\"] if \"Familia de cargo\" in demo else EMPTY_DATA,\n",
    "                'Genero Colaborador':demo[\"Genero Colaborador\"] if \"Genero\" in demo else EMPTY_DATA,\n",
    "                'Fecha de Nacimiento':demo[\"Fecha de Nacimiento\"] if \"Fecha de Nacimiento\" in demo else EMPTY_DATA,\n",
    "                'Ingreso Cargo':demo[\"Ingreso Cargo\"] if \"Ingreso Cargo\" in demo else EMPTY_DATA,\n",
    "                'Ingreso Grupo':demo[\"Ingreso Grupo\"] if \"Ingreso Grupo\" in demo else EMPTY_DATA,\n",
    "                'Formulario':demo[\"Formulario\"] if \"Formulario\" in demo else EMPTY_DATA,\n",
    "                'Talento Critico?': (\"SI\" if \"iscritical\" in talent and talent[\"iscritical\"] else \"NO\") if talent else EMPTY_DATA,\n",
    "                'Etiqueta Calibracion':UNKNOWED_DATA,\n",
    "                'Tienda Central':demo[\"Tienda Central\"] if \"Tienda Central\" in demo else EMPTY_DATA,\n",
    "                'País':demo[\"País\"] if \"País\" in demo else EMPTY_DATA,\n",
    "                'Negocio':demo[\"Negocio\"] if \"Negocio\" in demo else EMPTY_DATA,\n",
    "                'Empresa':demo[\"Empresa\"] if \"Empresa\" in demo else EMPTY_DATA,\n",
    "                'Area Transversal':demo[\"Area Transversal\"] if \"Area Transversal\" in demo else EMPTY_DATA,\n",
    "                'Area Final':areas['principal'] if 'principal' in areas else EMPTY_DATA,\n",
    "                'Nivel 1':areas[\"level1\"] if \"level1\" in areas else EMPTY_DATA,\n",
    "                'Nivel 2':areas[\"level2\"] if \"level2\" in areas else EMPTY_DATA,\n",
    "                'Nivel 3':areas[\"level3\"] if \"level3\" in areas else EMPTY_DATA,\n",
    "                'Nivel 4':areas[\"level4\"] if \"level4\" in areas else EMPTY_DATA,\n",
    "                'Nivel 5':areas[\"level5\"] if \"level5\" in areas else EMPTY_DATA,\n",
    "                'Nivel 6':areas[\"level6\"] if \"level6\" in areas else EMPTY_DATA,\n",
    "                'Nivel 7':areas[\"level7\"] if \"level7\" in areas else EMPTY_DATA,\n",
    "                'Nivel 8':areas[\"level8\"] if \"level8\" in areas else EMPTY_DATA,\n",
    "                'Tipo de Evaluacion':r_ind[\"ponderationFamily\"] if \"ponderationFamily\" in r_ind else EMPTY_DATA\n",
    "            }\n",
    "\n",
    "            domains = get_domains(r_ind, base_data)\n",
    "            indiv_data_collaborators.extend(domains)\n",
    "        except Exception as e:\n",
    "            print(e)\n",
    "            traceback.print_exc()\n",
    "\n",
    "print(\"Lapsed Time:\", (time.time()-start))"
   ]
  },
  {
   "cell_type": "markdown",
   "id": "a90369b9",
   "metadata": {},
   "source": [
    "## Resultados de: Ejecutivo Dominio"
   ]
  },
  {
   "cell_type": "markdown",
   "id": "fe667d95",
   "metadata": {},
   "source": [
    "Desplegamos en un dataframe y exportamos a excel (el dataframe solo puede mostrar 50 elementos)"
   ]
  },
  {
   "cell_type": "code",
   "execution_count": 1,
   "id": "e141b1c9",
   "metadata": {
    "scrolled": true
   },
   "outputs": [
    {
     "ename": "NameError",
     "evalue": "name 'pd' is not defined",
     "output_type": "error",
     "traceback": [
      "\u001b[0;31m---------------------------------------------------------------------------\u001b[0m",
      "\u001b[0;31mNameError\u001b[0m                                 Traceback (most recent call last)",
      "\u001b[0;32m<ipython-input-1-fc2fe12d3dd4>\u001b[0m in \u001b[0;36m<module>\u001b[0;34m\u001b[0m\n\u001b[0;32m----> 1\u001b[0;31m \u001b[0mcollaborators_df\u001b[0m \u001b[0;34m=\u001b[0m \u001b[0mpd\u001b[0m\u001b[0;34m.\u001b[0m\u001b[0mDataFrame\u001b[0m\u001b[0;34m(\u001b[0m\u001b[0mindiv_data_collaborators\u001b[0m\u001b[0;34m)\u001b[0m\u001b[0;34m\u001b[0m\u001b[0;34m\u001b[0m\u001b[0m\n\u001b[0m\u001b[1;32m      2\u001b[0m \u001b[0mcollaborators_df\u001b[0m\u001b[0;34m\u001b[0m\u001b[0;34m\u001b[0m\u001b[0m\n",
      "\u001b[0;31mNameError\u001b[0m: name 'pd' is not defined"
     ]
    }
   ],
   "source": [
    "collaborators_df = pd.DataFrame(indiv_data_collaborators)\n",
    "collaborators_df"
   ]
  },
  {
   "cell_type": "code",
   "execution_count": 23,
   "id": "78e38966",
   "metadata": {},
   "outputs": [
    {
     "name": "stdout",
     "output_type": "stream",
     "text": [
      "File saved here: EjecutivoDominio.xlsx\n"
     ]
    }
   ],
   "source": [
    "# determining the name of the file\n",
    "file_name = 'EjecutivoDominioSample.xlsx'\n",
    "  \n",
    "# saving the excel\n",
    "collaborators_df.to_excel(file_name)\n",
    "\n",
    "print(\"File saved here:\", file_name)"
   ]
  },
  {
   "cell_type": "code",
   "execution_count": null,
   "id": "d6940b6f",
   "metadata": {},
   "outputs": [],
   "source": []
  }
 ],
 "metadata": {
  "kernelspec": {
   "display_name": "conda_python3",
   "language": "python",
   "name": "conda_python3"
  },
  "language_info": {
   "codemirror_mode": {
    "name": "ipython",
    "version": 3
   },
   "file_extension": ".py",
   "mimetype": "text/x-python",
   "name": "python",
   "nbconvert_exporter": "python",
   "pygments_lexer": "ipython3",
   "version": "3.6.13"
  }
 },
 "nbformat": 4,
 "nbformat_minor": 5
}
